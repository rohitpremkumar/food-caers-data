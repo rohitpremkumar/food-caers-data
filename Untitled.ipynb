{
 "cells": [
  {
   "cell_type": "code",
   "execution_count": 46,
   "metadata": {},
   "outputs": [],
   "source": [
    "import pandas as pd\n",
    "import seaborn as sns\n",
    "import json\n",
    "from pandas.io.json import json_normalize\n",
    "sns.set()"
   ]
  },
  {
   "cell_type": "markdown",
   "metadata": {},
   "source": [
    "### Importing openFDA data on food CAERS** updated for 2018"
   ]
  },
  {
   "cell_type": "markdown",
   "metadata": {},
   "source": [
    "###### We can not just load the data using pandas.read_json since it is nested JSON. Thus we have to load the data traditionally and use the pandas function json_normalize to flatten individual nested columns and load them as independent data frames first."
   ]
  },
  {
   "cell_type": "code",
   "execution_count": 44,
   "metadata": {},
   "outputs": [],
   "source": [
    "with open('food-event-fda.json') as f:\n",
    "    d = json.load(f)\n"
   ]
  },
  {
   "cell_type": "code",
   "execution_count": 47,
   "metadata": {},
   "outputs": [],
   "source": [
    "caers = json_normalize(d['results'])"
   ]
  },
  {
   "cell_type": "code",
   "execution_count": 53,
   "metadata": {},
   "outputs": [
    {
     "data": {
      "text/html": [
       "<div>\n",
       "<style scoped>\n",
       "    .dataframe tbody tr th:only-of-type {\n",
       "        vertical-align: middle;\n",
       "    }\n",
       "\n",
       "    .dataframe tbody tr th {\n",
       "        vertical-align: top;\n",
       "    }\n",
       "\n",
       "    .dataframe thead th {\n",
       "        text-align: right;\n",
       "    }\n",
       "</style>\n",
       "<table border=\"1\" class=\"dataframe\">\n",
       "  <thead>\n",
       "    <tr style=\"text-align: right;\">\n",
       "      <th></th>\n",
       "      <th>consumer.age</th>\n",
       "      <th>consumer.age_unit</th>\n",
       "      <th>consumer.gender</th>\n",
       "      <th>date_created</th>\n",
       "      <th>date_started</th>\n",
       "      <th>outcomes</th>\n",
       "      <th>products</th>\n",
       "      <th>reactions</th>\n",
       "      <th>report_number</th>\n",
       "    </tr>\n",
       "  </thead>\n",
       "  <tbody>\n",
       "    <tr>\n",
       "      <th>0</th>\n",
       "      <td>43</td>\n",
       "      <td>Year(s)</td>\n",
       "      <td>Male</td>\n",
       "      <td>20080207</td>\n",
       "      <td>20071022</td>\n",
       "      <td>[DEATH, HOSPITALIZATION, VISITED AN ER]</td>\n",
       "      <td>[{'name_brand': 'CREAM OF CRAB SOUP', 'industr...</td>\n",
       "      <td>[FEELING OF BODY TEMPERATURE CHANGE, HAEMATOCH...</td>\n",
       "      <td>100216</td>\n",
       "    </tr>\n",
       "    <tr>\n",
       "      <th>1</th>\n",
       "      <td>54</td>\n",
       "      <td>Year(s)</td>\n",
       "      <td>Male</td>\n",
       "      <td>20080214</td>\n",
       "      <td>20080205</td>\n",
       "      <td>[REQ. INTERVENTION TO PRVNT PERM. IMPRMNT., OT...</td>\n",
       "      <td>[{'name_brand': 'LIFESMIRACLE BY DR. WAYNE GAR...</td>\n",
       "      <td>[TENSION, STRESS, IMPAIRED HEALING, INSOMNIA, ...</td>\n",
       "      <td>100366</td>\n",
       "    </tr>\n",
       "    <tr>\n",
       "      <th>2</th>\n",
       "      <td></td>\n",
       "      <td>Not Available</td>\n",
       "      <td>Male</td>\n",
       "      <td>20080222</td>\n",
       "      <td>20071108</td>\n",
       "      <td>[LIFE THREATENING]</td>\n",
       "      <td>[{'name_brand': 'POST HONEY ROASTED HONEY BUNC...</td>\n",
       "      <td>[HYPERSENSITIVITY, LOCALISED OEDEMA, SWELLING ...</td>\n",
       "      <td>100632</td>\n",
       "    </tr>\n",
       "    <tr>\n",
       "      <th>3</th>\n",
       "      <td>60</td>\n",
       "      <td>Year(s)</td>\n",
       "      <td>Female</td>\n",
       "      <td>20080223</td>\n",
       "      <td>None</td>\n",
       "      <td>[NON-SERIOUS INJURIES/ ILLNESS, VISITED A HEAL...</td>\n",
       "      <td>[{'name_brand': 'EQUATE BABY POWDER', 'industr...</td>\n",
       "      <td>[PRURITUS, RASH ERYTHEMATOUS, SKIN DISCOLOURAT...</td>\n",
       "      <td>100658</td>\n",
       "    </tr>\n",
       "    <tr>\n",
       "      <th>4</th>\n",
       "      <td>47</td>\n",
       "      <td>Year(s)</td>\n",
       "      <td>Female</td>\n",
       "      <td>20080225</td>\n",
       "      <td>20080120</td>\n",
       "      <td>[NON-SERIOUS INJURIES/ ILLNESS]</td>\n",
       "      <td>[{'name_brand': 'THE HEALING GARDEN SENSUAL TH...</td>\n",
       "      <td>[URTICARIA]</td>\n",
       "      <td>100681</td>\n",
       "    </tr>\n",
       "  </tbody>\n",
       "</table>\n",
       "</div>"
      ],
      "text/plain": [
       "  consumer.age consumer.age_unit consumer.gender date_created date_started  \\\n",
       "0           43           Year(s)            Male     20080207     20071022   \n",
       "1           54           Year(s)            Male     20080214     20080205   \n",
       "2                  Not Available            Male     20080222     20071108   \n",
       "3           60           Year(s)          Female     20080223         None   \n",
       "4           47           Year(s)          Female     20080225     20080120   \n",
       "\n",
       "                                            outcomes  \\\n",
       "0            [DEATH, HOSPITALIZATION, VISITED AN ER]   \n",
       "1  [REQ. INTERVENTION TO PRVNT PERM. IMPRMNT., OT...   \n",
       "2                                 [LIFE THREATENING]   \n",
       "3  [NON-SERIOUS INJURIES/ ILLNESS, VISITED A HEAL...   \n",
       "4                    [NON-SERIOUS INJURIES/ ILLNESS]   \n",
       "\n",
       "                                            products  \\\n",
       "0  [{'name_brand': 'CREAM OF CRAB SOUP', 'industr...   \n",
       "1  [{'name_brand': 'LIFESMIRACLE BY DR. WAYNE GAR...   \n",
       "2  [{'name_brand': 'POST HONEY ROASTED HONEY BUNC...   \n",
       "3  [{'name_brand': 'EQUATE BABY POWDER', 'industr...   \n",
       "4  [{'name_brand': 'THE HEALING GARDEN SENSUAL TH...   \n",
       "\n",
       "                                           reactions report_number  \n",
       "0  [FEELING OF BODY TEMPERATURE CHANGE, HAEMATOCH...        100216  \n",
       "1  [TENSION, STRESS, IMPAIRED HEALING, INSOMNIA, ...        100366  \n",
       "2  [HYPERSENSITIVITY, LOCALISED OEDEMA, SWELLING ...        100632  \n",
       "3  [PRURITUS, RASH ERYTHEMATOUS, SKIN DISCOLOURAT...        100658  \n",
       "4                                        [URTICARIA]        100681  "
      ]
     },
     "execution_count": 53,
     "metadata": {},
     "output_type": "execute_result"
    }
   ],
   "source": [
    "caers.head()"
   ]
  },
  {
   "cell_type": "markdown",
   "metadata": {},
   "source": [
    "###### We notice that the products columns is still nested so let us normalize it"
   ]
  },
  {
   "cell_type": "code",
   "execution_count": 69,
   "metadata": {},
   "outputs": [],
   "source": [
    "product = json_normalize(data=d['results'],\n",
    "                          errors='ignore',\n",
    "                          record_path='products', \n",
    "                         # meta=['consumer.age', \n",
    "                          #      'consumer.age_unit', \n",
    "                           #     'consumer.gender', \n",
    "                            #    'data_created',\n",
    "                             #   'data_started',\n",
    "                              # ]\n",
    "                         )"
   ]
  },
  {
   "cell_type": "code",
   "execution_count": 70,
   "metadata": {},
   "outputs": [
    {
     "data": {
      "text/html": [
       "<div>\n",
       "<style scoped>\n",
       "    .dataframe tbody tr th:only-of-type {\n",
       "        vertical-align: middle;\n",
       "    }\n",
       "\n",
       "    .dataframe tbody tr th {\n",
       "        vertical-align: top;\n",
       "    }\n",
       "\n",
       "    .dataframe thead th {\n",
       "        text-align: right;\n",
       "    }\n",
       "</style>\n",
       "<table border=\"1\" class=\"dataframe\">\n",
       "  <thead>\n",
       "    <tr style=\"text-align: right;\">\n",
       "      <th></th>\n",
       "      <th>industry_code</th>\n",
       "      <th>industry_name</th>\n",
       "      <th>name_brand</th>\n",
       "      <th>role</th>\n",
       "    </tr>\n",
       "  </thead>\n",
       "  <tbody>\n",
       "    <tr>\n",
       "      <th>0</th>\n",
       "      <td>16</td>\n",
       "      <td>Fishery/Seafood Prod</td>\n",
       "      <td>CREAM OF CRAB SOUP</td>\n",
       "      <td>Concomitant</td>\n",
       "    </tr>\n",
       "    <tr>\n",
       "      <th>1</th>\n",
       "      <td>16</td>\n",
       "      <td>Fishery/Seafood Prod</td>\n",
       "      <td>RAW OYSTERS</td>\n",
       "      <td>Suspect</td>\n",
       "    </tr>\n",
       "    <tr>\n",
       "      <th>2</th>\n",
       "      <td>54</td>\n",
       "      <td>Vit/Min/Prot/Unconv Diet(Human/Animal)</td>\n",
       "      <td>LIFESMIRACLE BY DR. WAYNE GARLAND</td>\n",
       "      <td>Suspect</td>\n",
       "    </tr>\n",
       "    <tr>\n",
       "      <th>3</th>\n",
       "      <td>05</td>\n",
       "      <td>Cereal Prep/Breakfast Food</td>\n",
       "      <td>POST HONEY ROASTED HONEY BUNCHES OF OATS CEREAL</td>\n",
       "      <td>Suspect</td>\n",
       "    </tr>\n",
       "    <tr>\n",
       "      <th>4</th>\n",
       "      <td>53</td>\n",
       "      <td>Cosmetics</td>\n",
       "      <td>EQUATE BABY POWDER</td>\n",
       "      <td>Suspect</td>\n",
       "    </tr>\n",
       "  </tbody>\n",
       "</table>\n",
       "</div>"
      ],
      "text/plain": [
       "  industry_code                           industry_name  \\\n",
       "0            16                    Fishery/Seafood Prod   \n",
       "1            16                    Fishery/Seafood Prod   \n",
       "2            54  Vit/Min/Prot/Unconv Diet(Human/Animal)   \n",
       "3            05              Cereal Prep/Breakfast Food   \n",
       "4            53                               Cosmetics   \n",
       "\n",
       "                                        name_brand         role  \n",
       "0                               CREAM OF CRAB SOUP  Concomitant  \n",
       "1                                      RAW OYSTERS      Suspect  \n",
       "2                LIFESMIRACLE BY DR. WAYNE GARLAND      Suspect  \n",
       "3  POST HONEY ROASTED HONEY BUNCHES OF OATS CEREAL      Suspect  \n",
       "4                               EQUATE BABY POWDER      Suspect  "
      ]
     },
     "execution_count": 70,
     "metadata": {},
     "output_type": "execute_result"
    }
   ],
   "source": [
    "product.head()"
   ]
  },
  {
   "cell_type": "markdown",
   "metadata": {},
   "source": [
    "###### We join the products and caers DataFrames and drop the nested 'products' column since we have already unpacked it."
   ]
  },
  {
   "cell_type": "code",
   "execution_count": 76,
   "metadata": {},
   "outputs": [],
   "source": [
    "data = pd.concat([caers, product], axis=1).drop(['products'], axis=1)"
   ]
  },
  {
   "cell_type": "code",
   "execution_count": 77,
   "metadata": {},
   "outputs": [
    {
     "data": {
      "text/html": [
       "<div>\n",
       "<style scoped>\n",
       "    .dataframe tbody tr th:only-of-type {\n",
       "        vertical-align: middle;\n",
       "    }\n",
       "\n",
       "    .dataframe tbody tr th {\n",
       "        vertical-align: top;\n",
       "    }\n",
       "\n",
       "    .dataframe thead th {\n",
       "        text-align: right;\n",
       "    }\n",
       "</style>\n",
       "<table border=\"1\" class=\"dataframe\">\n",
       "  <thead>\n",
       "    <tr style=\"text-align: right;\">\n",
       "      <th></th>\n",
       "      <th>consumer.age</th>\n",
       "      <th>consumer.age_unit</th>\n",
       "      <th>consumer.gender</th>\n",
       "      <th>date_created</th>\n",
       "      <th>date_started</th>\n",
       "      <th>outcomes</th>\n",
       "      <th>reactions</th>\n",
       "      <th>report_number</th>\n",
       "      <th>industry_code</th>\n",
       "      <th>industry_name</th>\n",
       "      <th>name_brand</th>\n",
       "      <th>role</th>\n",
       "    </tr>\n",
       "  </thead>\n",
       "  <tbody>\n",
       "    <tr>\n",
       "      <th>0</th>\n",
       "      <td>43</td>\n",
       "      <td>Year(s)</td>\n",
       "      <td>Male</td>\n",
       "      <td>20080207</td>\n",
       "      <td>20071022</td>\n",
       "      <td>[DEATH, HOSPITALIZATION, VISITED AN ER]</td>\n",
       "      <td>[FEELING OF BODY TEMPERATURE CHANGE, HAEMATOCH...</td>\n",
       "      <td>100216</td>\n",
       "      <td>16</td>\n",
       "      <td>Fishery/Seafood Prod</td>\n",
       "      <td>CREAM OF CRAB SOUP</td>\n",
       "      <td>Concomitant</td>\n",
       "    </tr>\n",
       "    <tr>\n",
       "      <th>1</th>\n",
       "      <td>54</td>\n",
       "      <td>Year(s)</td>\n",
       "      <td>Male</td>\n",
       "      <td>20080214</td>\n",
       "      <td>20080205</td>\n",
       "      <td>[REQ. INTERVENTION TO PRVNT PERM. IMPRMNT., OT...</td>\n",
       "      <td>[TENSION, STRESS, IMPAIRED HEALING, INSOMNIA, ...</td>\n",
       "      <td>100366</td>\n",
       "      <td>16</td>\n",
       "      <td>Fishery/Seafood Prod</td>\n",
       "      <td>RAW OYSTERS</td>\n",
       "      <td>Suspect</td>\n",
       "    </tr>\n",
       "    <tr>\n",
       "      <th>2</th>\n",
       "      <td></td>\n",
       "      <td>Not Available</td>\n",
       "      <td>Male</td>\n",
       "      <td>20080222</td>\n",
       "      <td>20071108</td>\n",
       "      <td>[LIFE THREATENING]</td>\n",
       "      <td>[HYPERSENSITIVITY, LOCALISED OEDEMA, SWELLING ...</td>\n",
       "      <td>100632</td>\n",
       "      <td>54</td>\n",
       "      <td>Vit/Min/Prot/Unconv Diet(Human/Animal)</td>\n",
       "      <td>LIFESMIRACLE BY DR. WAYNE GARLAND</td>\n",
       "      <td>Suspect</td>\n",
       "    </tr>\n",
       "    <tr>\n",
       "      <th>3</th>\n",
       "      <td>60</td>\n",
       "      <td>Year(s)</td>\n",
       "      <td>Female</td>\n",
       "      <td>20080223</td>\n",
       "      <td>None</td>\n",
       "      <td>[NON-SERIOUS INJURIES/ ILLNESS, VISITED A HEAL...</td>\n",
       "      <td>[PRURITUS, RASH ERYTHEMATOUS, SKIN DISCOLOURAT...</td>\n",
       "      <td>100658</td>\n",
       "      <td>05</td>\n",
       "      <td>Cereal Prep/Breakfast Food</td>\n",
       "      <td>POST HONEY ROASTED HONEY BUNCHES OF OATS CEREAL</td>\n",
       "      <td>Suspect</td>\n",
       "    </tr>\n",
       "    <tr>\n",
       "      <th>4</th>\n",
       "      <td>47</td>\n",
       "      <td>Year(s)</td>\n",
       "      <td>Female</td>\n",
       "      <td>20080225</td>\n",
       "      <td>20080120</td>\n",
       "      <td>[NON-SERIOUS INJURIES/ ILLNESS]</td>\n",
       "      <td>[URTICARIA]</td>\n",
       "      <td>100681</td>\n",
       "      <td>53</td>\n",
       "      <td>Cosmetics</td>\n",
       "      <td>EQUATE BABY POWDER</td>\n",
       "      <td>Suspect</td>\n",
       "    </tr>\n",
       "  </tbody>\n",
       "</table>\n",
       "</div>"
      ],
      "text/plain": [
       "  consumer.age consumer.age_unit consumer.gender date_created date_started  \\\n",
       "0           43           Year(s)            Male     20080207     20071022   \n",
       "1           54           Year(s)            Male     20080214     20080205   \n",
       "2                  Not Available            Male     20080222     20071108   \n",
       "3           60           Year(s)          Female     20080223         None   \n",
       "4           47           Year(s)          Female     20080225     20080120   \n",
       "\n",
       "                                            outcomes  \\\n",
       "0            [DEATH, HOSPITALIZATION, VISITED AN ER]   \n",
       "1  [REQ. INTERVENTION TO PRVNT PERM. IMPRMNT., OT...   \n",
       "2                                 [LIFE THREATENING]   \n",
       "3  [NON-SERIOUS INJURIES/ ILLNESS, VISITED A HEAL...   \n",
       "4                    [NON-SERIOUS INJURIES/ ILLNESS]   \n",
       "\n",
       "                                           reactions report_number  \\\n",
       "0  [FEELING OF BODY TEMPERATURE CHANGE, HAEMATOCH...        100216   \n",
       "1  [TENSION, STRESS, IMPAIRED HEALING, INSOMNIA, ...        100366   \n",
       "2  [HYPERSENSITIVITY, LOCALISED OEDEMA, SWELLING ...        100632   \n",
       "3  [PRURITUS, RASH ERYTHEMATOUS, SKIN DISCOLOURAT...        100658   \n",
       "4                                        [URTICARIA]        100681   \n",
       "\n",
       "  industry_code                           industry_name  \\\n",
       "0            16                    Fishery/Seafood Prod   \n",
       "1            16                    Fishery/Seafood Prod   \n",
       "2            54  Vit/Min/Prot/Unconv Diet(Human/Animal)   \n",
       "3            05              Cereal Prep/Breakfast Food   \n",
       "4            53                               Cosmetics   \n",
       "\n",
       "                                        name_brand         role  \n",
       "0                               CREAM OF CRAB SOUP  Concomitant  \n",
       "1                                      RAW OYSTERS      Suspect  \n",
       "2                LIFESMIRACLE BY DR. WAYNE GARLAND      Suspect  \n",
       "3  POST HONEY ROASTED HONEY BUNCHES OF OATS CEREAL      Suspect  \n",
       "4                               EQUATE BABY POWDER      Suspect  "
      ]
     },
     "execution_count": 77,
     "metadata": {},
     "output_type": "execute_result"
    }
   ],
   "source": [
    "data.head()"
   ]
  },
  {
   "cell_type": "markdown",
   "metadata": {},
   "source": [
    "##  Data cleaning"
   ]
  },
  {
   "cell_type": "markdown",
   "metadata": {},
   "source": [
    "#### Let's start with the consumer age. We notice something strange immediately when we see that there is a column labelled 'consumer.age_unit' indicating that the 'consumer.age' is not standarized. Thus we have to convert the values in 'consumer.age' to years based on what the corresponding 'consumer.age_unit' is. Below is a count of each of the different possible units."
   ]
  },
  {
   "cell_type": "code",
   "execution_count": 81,
   "metadata": {},
   "outputs": [
    {
     "data": {
      "text/plain": [
       "Not Available    32759\n",
       "Year(s)          31353\n",
       "Month(s)          1138\n",
       "Week(s)            145\n",
       "Day(s)             119\n",
       "Decade(s)            9\n",
       "Name: consumer.age_unit, dtype: int64"
      ]
     },
     "execution_count": 81,
     "metadata": {},
     "output_type": "execute_result"
    }
   ],
   "source": [
    "data['consumer.age_unit'].value_counts()"
   ]
  },
  {
   "cell_type": "code",
   "execution_count": null,
   "metadata": {},
   "outputs": [],
   "source": [
    "def convert_age"
   ]
  }
 ],
 "metadata": {
  "kernelspec": {
   "display_name": "Python 3",
   "language": "python",
   "name": "python3"
  },
  "language_info": {
   "codemirror_mode": {
    "name": "ipython",
    "version": 3
   },
   "file_extension": ".py",
   "mimetype": "text/x-python",
   "name": "python",
   "nbconvert_exporter": "python",
   "pygments_lexer": "ipython3",
   "version": "3.6.4"
  }
 },
 "nbformat": 4,
 "nbformat_minor": 2
}
